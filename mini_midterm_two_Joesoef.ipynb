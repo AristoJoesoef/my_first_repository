{
 "cells": [
  {
   "cell_type": "markdown",
   "metadata": {},
   "source": [
    "# Data Bootcamp Mini-Exam #2  \n",
    "\n",
    "[NYU Stern School of Business](http://www.stern.nyu.edu) | March 2018\n",
    "\n",
    "Please answer the questions below in this Jupyter notebook.  Add cells as needed.  When you're done, **save it** and **email** it to [nyudatabootcamp@gmail.com](nyudatabootcamp@gmail.com). Make sure you have the correct file.  **Doing this correctly (and inserting your name below, is worth 10 points.**\n",
    "\n",
    "**When I return the exam, I, *Aristo Phedro Joesoef*,  acknowledge that that the STERN honor code applies: I will not lie, cheat, or steal to gain an academic advantage, nor tolerate those who do.**\n",
    "\n",
    "**You have 45 minutes to complete this exam**\n",
    "\n",
    "**You may consult personal notes, sources on the internet, the book, etc. You may not consult fellow students. Your work must be your own.**\n",
    "\n",
    "\n",
    "---\n",
    "\n",
    "### Intro\n",
    "\n",
    "This exam was inspired by a project from my fall 2017 class. The question is to examine the \"life-cycle\" of an NBA player, i.e. at what age is an NBA player at their best? Here we will look at the life cycle of one of *the* best: Michael Jordan.\n",
    "\n",
    "I posted the relevant data set at:\n",
    "\n",
    "```python\n",
    "https://github.com/mwaugh0328/data_bootcamp_spring_2018/blob/master/mini_exam_two/Seasons_Stats.csv\n",
    "```\n",
    "\n",
    "Please use this data set to answer the following questions.\n",
    "\n",
    "---"
   ]
  },
  {
   "cell_type": "markdown",
   "metadata": {},
   "source": [
    "### Question 0: (10pts)\n",
    "- In a code cell below, insert the correct preamble. For this exam, you will need Pandas and Matplotlib. Hint #1: look at the book or previous code that we have used. Hint #2: If you still can't figure it out. Raise your hand and I'll help (you will lose credit, but you will be able to proceed.)"
   ]
  },
  {
   "cell_type": "code",
   "execution_count": 40,
   "metadata": {
    "collapsed": true
   },
   "outputs": [],
   "source": [
    "import pandas as pd                 \n",
    "from pandas_datareader import data  \n",
    "import datetime as dt               \n",
    "import matplotlib.pyplot as plt     \n",
    "\n",
    "%matplotlib inline "
   ]
  },
  {
   "cell_type": "markdown",
   "metadata": {},
   "source": [
    "### Question 1: (40pts)\n",
    " - (a) Import the dataset. Name your DataFrame as `nba`. In particular Use the optionality of Pandas to read in **only** the following columns:\n",
    "```python\n",
    "[\"Player\", \"Year\", \"G\", \"3P\",\"PTS\", \"Tm\", \"Age\", \"FG%\"]\n",
    "```\n",
    "In order, the columns represent: player name, year, regular season games played, three points, total points, team, age, field goal percentage.\n",
    " \n",
    "- (b) How many rows does `nba` have? \n",
    "\n",
    "\n",
    "- (c) Display the last 15 rows of `nba`\n",
    "\n",
    "\n",
    "- (d) What are the types of the variables within each columns? "
   ]
  },
  {
   "cell_type": "markdown",
   "metadata": {},
   "source": [
    "## Part a"
   ]
  },
  {
   "cell_type": "code",
   "execution_count": 41,
   "metadata": {},
   "outputs": [],
   "source": [
    "url = \"https://raw.githubusercontent.com/mwaugh0328/data_bootcamp_spring_2018/master/mini_exam_two/Seasons_Stats.csv\"\n",
    "field= [\"Player\", \"Year\", \"G\", \"3P\",\"PTS\", \"Tm\", \"Age\", \"FG%\"]\n",
    "nba = pd.read_csv(url,usecols=field)"
   ]
  },
  {
   "cell_type": "markdown",
   "metadata": {},
   "source": [
    "## Part b"
   ]
  },
  {
   "cell_type": "code",
   "execution_count": 42,
   "metadata": {},
   "outputs": [
    {
     "data": {
      "text/plain": [
       "(24691, 8)"
      ]
     },
     "execution_count": 42,
     "metadata": {},
     "output_type": "execute_result"
    }
   ],
   "source": [
    "nba.shape\n",
    "#nba has 24691 rows"
   ]
  },
  {
   "cell_type": "markdown",
   "metadata": {},
   "source": [
    "## Part c"
   ]
  },
  {
   "cell_type": "code",
   "execution_count": 43,
   "metadata": {},
   "outputs": [
    {
     "data": {
      "text/html": [
       "<div>\n",
       "<style scoped>\n",
       "    .dataframe tbody tr th:only-of-type {\n",
       "        vertical-align: middle;\n",
       "    }\n",
       "\n",
       "    .dataframe tbody tr th {\n",
       "        vertical-align: top;\n",
       "    }\n",
       "\n",
       "    .dataframe thead th {\n",
       "        text-align: right;\n",
       "    }\n",
       "</style>\n",
       "<table border=\"1\" class=\"dataframe\">\n",
       "  <thead>\n",
       "    <tr style=\"text-align: right;\">\n",
       "      <th></th>\n",
       "      <th>Year</th>\n",
       "      <th>Player</th>\n",
       "      <th>Age</th>\n",
       "      <th>Tm</th>\n",
       "      <th>G</th>\n",
       "      <th>FG%</th>\n",
       "      <th>3P</th>\n",
       "      <th>PTS</th>\n",
       "    </tr>\n",
       "  </thead>\n",
       "  <tbody>\n",
       "    <tr>\n",
       "      <th>24676</th>\n",
       "      <td>2017.0</td>\n",
       "      <td>Justise Winslow</td>\n",
       "      <td>20.0</td>\n",
       "      <td>MIA</td>\n",
       "      <td>18.0</td>\n",
       "      <td>0.356</td>\n",
       "      <td>7.0</td>\n",
       "      <td>196.0</td>\n",
       "    </tr>\n",
       "    <tr>\n",
       "      <th>24677</th>\n",
       "      <td>2017.0</td>\n",
       "      <td>Jeff Withey</td>\n",
       "      <td>26.0</td>\n",
       "      <td>UTA</td>\n",
       "      <td>51.0</td>\n",
       "      <td>0.534</td>\n",
       "      <td>0.0</td>\n",
       "      <td>146.0</td>\n",
       "    </tr>\n",
       "    <tr>\n",
       "      <th>24678</th>\n",
       "      <td>2017.0</td>\n",
       "      <td>Christian Wood</td>\n",
       "      <td>21.0</td>\n",
       "      <td>CHO</td>\n",
       "      <td>13.0</td>\n",
       "      <td>0.522</td>\n",
       "      <td>0.0</td>\n",
       "      <td>35.0</td>\n",
       "    </tr>\n",
       "    <tr>\n",
       "      <th>24679</th>\n",
       "      <td>2017.0</td>\n",
       "      <td>Metta World</td>\n",
       "      <td>37.0</td>\n",
       "      <td>LAL</td>\n",
       "      <td>25.0</td>\n",
       "      <td>0.279</td>\n",
       "      <td>9.0</td>\n",
       "      <td>57.0</td>\n",
       "    </tr>\n",
       "    <tr>\n",
       "      <th>24680</th>\n",
       "      <td>2017.0</td>\n",
       "      <td>Brandan Wright</td>\n",
       "      <td>29.0</td>\n",
       "      <td>MEM</td>\n",
       "      <td>28.0</td>\n",
       "      <td>0.615</td>\n",
       "      <td>0.0</td>\n",
       "      <td>189.0</td>\n",
       "    </tr>\n",
       "    <tr>\n",
       "      <th>24681</th>\n",
       "      <td>2017.0</td>\n",
       "      <td>Delon Wright</td>\n",
       "      <td>24.0</td>\n",
       "      <td>TOR</td>\n",
       "      <td>27.0</td>\n",
       "      <td>0.422</td>\n",
       "      <td>10.0</td>\n",
       "      <td>150.0</td>\n",
       "    </tr>\n",
       "    <tr>\n",
       "      <th>24682</th>\n",
       "      <td>2017.0</td>\n",
       "      <td>James Young</td>\n",
       "      <td>21.0</td>\n",
       "      <td>BOS</td>\n",
       "      <td>29.0</td>\n",
       "      <td>0.431</td>\n",
       "      <td>12.0</td>\n",
       "      <td>68.0</td>\n",
       "    </tr>\n",
       "    <tr>\n",
       "      <th>24683</th>\n",
       "      <td>2017.0</td>\n",
       "      <td>Joe Young</td>\n",
       "      <td>24.0</td>\n",
       "      <td>IND</td>\n",
       "      <td>33.0</td>\n",
       "      <td>0.361</td>\n",
       "      <td>5.0</td>\n",
       "      <td>68.0</td>\n",
       "    </tr>\n",
       "    <tr>\n",
       "      <th>24684</th>\n",
       "      <td>2017.0</td>\n",
       "      <td>Nick Young</td>\n",
       "      <td>31.0</td>\n",
       "      <td>LAL</td>\n",
       "      <td>60.0</td>\n",
       "      <td>0.430</td>\n",
       "      <td>170.0</td>\n",
       "      <td>791.0</td>\n",
       "    </tr>\n",
       "    <tr>\n",
       "      <th>24685</th>\n",
       "      <td>2017.0</td>\n",
       "      <td>Thaddeus Young</td>\n",
       "      <td>28.0</td>\n",
       "      <td>IND</td>\n",
       "      <td>74.0</td>\n",
       "      <td>0.527</td>\n",
       "      <td>45.0</td>\n",
       "      <td>814.0</td>\n",
       "    </tr>\n",
       "    <tr>\n",
       "      <th>24686</th>\n",
       "      <td>2017.0</td>\n",
       "      <td>Cody Zeller</td>\n",
       "      <td>24.0</td>\n",
       "      <td>CHO</td>\n",
       "      <td>62.0</td>\n",
       "      <td>0.571</td>\n",
       "      <td>0.0</td>\n",
       "      <td>639.0</td>\n",
       "    </tr>\n",
       "    <tr>\n",
       "      <th>24687</th>\n",
       "      <td>2017.0</td>\n",
       "      <td>Tyler Zeller</td>\n",
       "      <td>27.0</td>\n",
       "      <td>BOS</td>\n",
       "      <td>51.0</td>\n",
       "      <td>0.494</td>\n",
       "      <td>0.0</td>\n",
       "      <td>178.0</td>\n",
       "    </tr>\n",
       "    <tr>\n",
       "      <th>24688</th>\n",
       "      <td>2017.0</td>\n",
       "      <td>Stephen Zimmerman</td>\n",
       "      <td>20.0</td>\n",
       "      <td>ORL</td>\n",
       "      <td>19.0</td>\n",
       "      <td>0.323</td>\n",
       "      <td>0.0</td>\n",
       "      <td>23.0</td>\n",
       "    </tr>\n",
       "    <tr>\n",
       "      <th>24689</th>\n",
       "      <td>2017.0</td>\n",
       "      <td>Paul Zipser</td>\n",
       "      <td>22.0</td>\n",
       "      <td>CHI</td>\n",
       "      <td>44.0</td>\n",
       "      <td>0.398</td>\n",
       "      <td>33.0</td>\n",
       "      <td>240.0</td>\n",
       "    </tr>\n",
       "    <tr>\n",
       "      <th>24690</th>\n",
       "      <td>2017.0</td>\n",
       "      <td>Ivica Zubac</td>\n",
       "      <td>19.0</td>\n",
       "      <td>LAL</td>\n",
       "      <td>38.0</td>\n",
       "      <td>0.529</td>\n",
       "      <td>0.0</td>\n",
       "      <td>284.0</td>\n",
       "    </tr>\n",
       "  </tbody>\n",
       "</table>\n",
       "</div>"
      ],
      "text/plain": [
       "         Year             Player   Age   Tm     G    FG%     3P    PTS\n",
       "24676  2017.0    Justise Winslow  20.0  MIA  18.0  0.356    7.0  196.0\n",
       "24677  2017.0        Jeff Withey  26.0  UTA  51.0  0.534    0.0  146.0\n",
       "24678  2017.0     Christian Wood  21.0  CHO  13.0  0.522    0.0   35.0\n",
       "24679  2017.0        Metta World  37.0  LAL  25.0  0.279    9.0   57.0\n",
       "24680  2017.0     Brandan Wright  29.0  MEM  28.0  0.615    0.0  189.0\n",
       "24681  2017.0       Delon Wright  24.0  TOR  27.0  0.422   10.0  150.0\n",
       "24682  2017.0        James Young  21.0  BOS  29.0  0.431   12.0   68.0\n",
       "24683  2017.0          Joe Young  24.0  IND  33.0  0.361    5.0   68.0\n",
       "24684  2017.0         Nick Young  31.0  LAL  60.0  0.430  170.0  791.0\n",
       "24685  2017.0     Thaddeus Young  28.0  IND  74.0  0.527   45.0  814.0\n",
       "24686  2017.0        Cody Zeller  24.0  CHO  62.0  0.571    0.0  639.0\n",
       "24687  2017.0       Tyler Zeller  27.0  BOS  51.0  0.494    0.0  178.0\n",
       "24688  2017.0  Stephen Zimmerman  20.0  ORL  19.0  0.323    0.0   23.0\n",
       "24689  2017.0        Paul Zipser  22.0  CHI  44.0  0.398   33.0  240.0\n",
       "24690  2017.0        Ivica Zubac  19.0  LAL  38.0  0.529    0.0  284.0"
      ]
     },
     "execution_count": 43,
     "metadata": {},
     "output_type": "execute_result"
    }
   ],
   "source": [
    "nba.tail(15)"
   ]
  },
  {
   "cell_type": "markdown",
   "metadata": {},
   "source": [
    "## Part d"
   ]
  },
  {
   "cell_type": "code",
   "execution_count": 44,
   "metadata": {},
   "outputs": [
    {
     "data": {
      "text/plain": [
       "Year      float64\n",
       "Player     object\n",
       "Age       float64\n",
       "Tm         object\n",
       "G         float64\n",
       "FG%       float64\n",
       "3P        float64\n",
       "PTS       float64\n",
       "dtype: object"
      ]
     },
     "execution_count": 44,
     "metadata": {},
     "output_type": "execute_result"
    }
   ],
   "source": [
    "nba.dtypes\n",
    "#The following are the types of data in each column"
   ]
  },
  {
   "cell_type": "markdown",
   "metadata": {},
   "source": [
    "### Question 2 (40pts)\n",
    "\n",
    "Please answer the questions below, giving each part its own code cell:\n",
    "\n",
    "(a) Change the column \"FG%\" to \"FG_pct\".\n",
    "\n",
    "(b) Create a new column named \"PPG\" (points per game) which is defined as the total number of points divided by the number of games.  \n",
    "\n",
    "(c) Set the index to be \"Player\", make sure to do so in a way that you keep the new index in place. \n",
    "\n",
    "(d) Select only Michael Jordan and and assign it to new DataFrame `mj`.  **Important** Michael Jordon's name in the dataset is \n",
    "```python\n",
    "\"Michael Jordan*\"\n",
    "```\n",
    "Hint: Given the work in (c), use the `.loc[]` command to select Michal Jordan from the dataset. "
   ]
  },
  {
   "cell_type": "markdown",
   "metadata": {},
   "source": [
    "## Part a"
   ]
  },
  {
   "cell_type": "code",
   "execution_count": 45,
   "metadata": {},
   "outputs": [],
   "source": [
    "nba.columns = [\"Year\", \"Player\", \"Age\", \"Tm\", \"G\", \"FG_pct\", \"3P\", \"PTS\"]"
   ]
  },
  {
   "cell_type": "markdown",
   "metadata": {},
   "source": [
    "## Part b"
   ]
  },
  {
   "cell_type": "code",
   "execution_count": 46,
   "metadata": {
    "collapsed": true
   },
   "outputs": [],
   "source": [
    "nba[\"PPG\"] = nba[\"PTS\"]/nba[\"G\"]"
   ]
  },
  {
   "cell_type": "markdown",
   "metadata": {},
   "source": [
    "## Part c"
   ]
  },
  {
   "cell_type": "code",
   "execution_count": 47,
   "metadata": {},
   "outputs": [],
   "source": [
    "nba.set_index(\"Player\", inplace= True)"
   ]
  },
  {
   "cell_type": "markdown",
   "metadata": {},
   "source": [
    "## Part d"
   ]
  },
  {
   "cell_type": "code",
   "execution_count": 49,
   "metadata": {},
   "outputs": [
    {
     "data": {
      "text/html": [
       "<div>\n",
       "<style scoped>\n",
       "    .dataframe tbody tr th:only-of-type {\n",
       "        vertical-align: middle;\n",
       "    }\n",
       "\n",
       "    .dataframe tbody tr th {\n",
       "        vertical-align: top;\n",
       "    }\n",
       "\n",
       "    .dataframe thead th {\n",
       "        text-align: right;\n",
       "    }\n",
       "</style>\n",
       "<table border=\"1\" class=\"dataframe\">\n",
       "  <thead>\n",
       "    <tr style=\"text-align: right;\">\n",
       "      <th></th>\n",
       "      <th>Year</th>\n",
       "      <th>Age</th>\n",
       "      <th>Tm</th>\n",
       "      <th>G</th>\n",
       "      <th>FG_pct</th>\n",
       "      <th>3P</th>\n",
       "      <th>PTS</th>\n",
       "      <th>PPG</th>\n",
       "    </tr>\n",
       "    <tr>\n",
       "      <th>Player</th>\n",
       "      <th></th>\n",
       "      <th></th>\n",
       "      <th></th>\n",
       "      <th></th>\n",
       "      <th></th>\n",
       "      <th></th>\n",
       "      <th></th>\n",
       "      <th></th>\n",
       "    </tr>\n",
       "  </thead>\n",
       "  <tbody>\n",
       "    <tr>\n",
       "      <th>Michael Jordan*</th>\n",
       "      <td>1985.0</td>\n",
       "      <td>21.0</td>\n",
       "      <td>CHI</td>\n",
       "      <td>82.0</td>\n",
       "      <td>0.515</td>\n",
       "      <td>9.0</td>\n",
       "      <td>2313.0</td>\n",
       "      <td>28.207317</td>\n",
       "    </tr>\n",
       "    <tr>\n",
       "      <th>Michael Jordan*</th>\n",
       "      <td>1986.0</td>\n",
       "      <td>22.0</td>\n",
       "      <td>CHI</td>\n",
       "      <td>18.0</td>\n",
       "      <td>0.457</td>\n",
       "      <td>3.0</td>\n",
       "      <td>408.0</td>\n",
       "      <td>22.666667</td>\n",
       "    </tr>\n",
       "    <tr>\n",
       "      <th>Michael Jordan*</th>\n",
       "      <td>1987.0</td>\n",
       "      <td>23.0</td>\n",
       "      <td>CHI</td>\n",
       "      <td>82.0</td>\n",
       "      <td>0.482</td>\n",
       "      <td>12.0</td>\n",
       "      <td>3041.0</td>\n",
       "      <td>37.085366</td>\n",
       "    </tr>\n",
       "    <tr>\n",
       "      <th>Michael Jordan*</th>\n",
       "      <td>1988.0</td>\n",
       "      <td>24.0</td>\n",
       "      <td>CHI</td>\n",
       "      <td>82.0</td>\n",
       "      <td>0.535</td>\n",
       "      <td>7.0</td>\n",
       "      <td>2868.0</td>\n",
       "      <td>34.975610</td>\n",
       "    </tr>\n",
       "    <tr>\n",
       "      <th>Michael Jordan*</th>\n",
       "      <td>1989.0</td>\n",
       "      <td>25.0</td>\n",
       "      <td>CHI</td>\n",
       "      <td>81.0</td>\n",
       "      <td>0.538</td>\n",
       "      <td>27.0</td>\n",
       "      <td>2633.0</td>\n",
       "      <td>32.506173</td>\n",
       "    </tr>\n",
       "    <tr>\n",
       "      <th>Michael Jordan*</th>\n",
       "      <td>1990.0</td>\n",
       "      <td>26.0</td>\n",
       "      <td>CHI</td>\n",
       "      <td>82.0</td>\n",
       "      <td>0.526</td>\n",
       "      <td>92.0</td>\n",
       "      <td>2753.0</td>\n",
       "      <td>33.573171</td>\n",
       "    </tr>\n",
       "    <tr>\n",
       "      <th>Michael Jordan*</th>\n",
       "      <td>1991.0</td>\n",
       "      <td>27.0</td>\n",
       "      <td>CHI</td>\n",
       "      <td>82.0</td>\n",
       "      <td>0.539</td>\n",
       "      <td>29.0</td>\n",
       "      <td>2580.0</td>\n",
       "      <td>31.463415</td>\n",
       "    </tr>\n",
       "    <tr>\n",
       "      <th>Michael Jordan*</th>\n",
       "      <td>1992.0</td>\n",
       "      <td>28.0</td>\n",
       "      <td>CHI</td>\n",
       "      <td>80.0</td>\n",
       "      <td>0.519</td>\n",
       "      <td>27.0</td>\n",
       "      <td>2404.0</td>\n",
       "      <td>30.050000</td>\n",
       "    </tr>\n",
       "    <tr>\n",
       "      <th>Michael Jordan*</th>\n",
       "      <td>1993.0</td>\n",
       "      <td>29.0</td>\n",
       "      <td>CHI</td>\n",
       "      <td>78.0</td>\n",
       "      <td>0.495</td>\n",
       "      <td>81.0</td>\n",
       "      <td>2541.0</td>\n",
       "      <td>32.576923</td>\n",
       "    </tr>\n",
       "    <tr>\n",
       "      <th>Michael Jordan*</th>\n",
       "      <td>1995.0</td>\n",
       "      <td>31.0</td>\n",
       "      <td>CHI</td>\n",
       "      <td>17.0</td>\n",
       "      <td>0.411</td>\n",
       "      <td>16.0</td>\n",
       "      <td>457.0</td>\n",
       "      <td>26.882353</td>\n",
       "    </tr>\n",
       "    <tr>\n",
       "      <th>Michael Jordan*</th>\n",
       "      <td>1996.0</td>\n",
       "      <td>32.0</td>\n",
       "      <td>CHI</td>\n",
       "      <td>82.0</td>\n",
       "      <td>0.495</td>\n",
       "      <td>111.0</td>\n",
       "      <td>2491.0</td>\n",
       "      <td>30.378049</td>\n",
       "    </tr>\n",
       "    <tr>\n",
       "      <th>Michael Jordan*</th>\n",
       "      <td>1997.0</td>\n",
       "      <td>33.0</td>\n",
       "      <td>CHI</td>\n",
       "      <td>82.0</td>\n",
       "      <td>0.486</td>\n",
       "      <td>111.0</td>\n",
       "      <td>2431.0</td>\n",
       "      <td>29.646341</td>\n",
       "    </tr>\n",
       "    <tr>\n",
       "      <th>Michael Jordan*</th>\n",
       "      <td>1998.0</td>\n",
       "      <td>34.0</td>\n",
       "      <td>CHI</td>\n",
       "      <td>82.0</td>\n",
       "      <td>0.465</td>\n",
       "      <td>30.0</td>\n",
       "      <td>2357.0</td>\n",
       "      <td>28.743902</td>\n",
       "    </tr>\n",
       "    <tr>\n",
       "      <th>Michael Jordan*</th>\n",
       "      <td>2002.0</td>\n",
       "      <td>38.0</td>\n",
       "      <td>WAS</td>\n",
       "      <td>60.0</td>\n",
       "      <td>0.416</td>\n",
       "      <td>10.0</td>\n",
       "      <td>1375.0</td>\n",
       "      <td>22.916667</td>\n",
       "    </tr>\n",
       "    <tr>\n",
       "      <th>Michael Jordan*</th>\n",
       "      <td>2003.0</td>\n",
       "      <td>39.0</td>\n",
       "      <td>WAS</td>\n",
       "      <td>82.0</td>\n",
       "      <td>0.445</td>\n",
       "      <td>16.0</td>\n",
       "      <td>1640.0</td>\n",
       "      <td>20.000000</td>\n",
       "    </tr>\n",
       "  </tbody>\n",
       "</table>\n",
       "</div>"
      ],
      "text/plain": [
       "                   Year   Age   Tm     G  FG_pct     3P     PTS        PPG\n",
       "Player                                                                    \n",
       "Michael Jordan*  1985.0  21.0  CHI  82.0   0.515    9.0  2313.0  28.207317\n",
       "Michael Jordan*  1986.0  22.0  CHI  18.0   0.457    3.0   408.0  22.666667\n",
       "Michael Jordan*  1987.0  23.0  CHI  82.0   0.482   12.0  3041.0  37.085366\n",
       "Michael Jordan*  1988.0  24.0  CHI  82.0   0.535    7.0  2868.0  34.975610\n",
       "Michael Jordan*  1989.0  25.0  CHI  81.0   0.538   27.0  2633.0  32.506173\n",
       "Michael Jordan*  1990.0  26.0  CHI  82.0   0.526   92.0  2753.0  33.573171\n",
       "Michael Jordan*  1991.0  27.0  CHI  82.0   0.539   29.0  2580.0  31.463415\n",
       "Michael Jordan*  1992.0  28.0  CHI  80.0   0.519   27.0  2404.0  30.050000\n",
       "Michael Jordan*  1993.0  29.0  CHI  78.0   0.495   81.0  2541.0  32.576923\n",
       "Michael Jordan*  1995.0  31.0  CHI  17.0   0.411   16.0   457.0  26.882353\n",
       "Michael Jordan*  1996.0  32.0  CHI  82.0   0.495  111.0  2491.0  30.378049\n",
       "Michael Jordan*  1997.0  33.0  CHI  82.0   0.486  111.0  2431.0  29.646341\n",
       "Michael Jordan*  1998.0  34.0  CHI  82.0   0.465   30.0  2357.0  28.743902\n",
       "Michael Jordan*  2002.0  38.0  WAS  60.0   0.416   10.0  1375.0  22.916667\n",
       "Michael Jordan*  2003.0  39.0  WAS  82.0   0.445   16.0  1640.0  20.000000"
      ]
     },
     "execution_count": 49,
     "metadata": {},
     "output_type": "execute_result"
    }
   ],
   "source": [
    "mj = nba.loc[\"Michael Jordan*\"]\n",
    "mj"
   ]
  },
  {
   "cell_type": "markdown",
   "metadata": {},
   "source": [
    "### Question 3 (40 pts)\n",
    "\n",
    "First, if you are stuck on (2d), then simply download the data set for Michael Jordan from\n",
    "```python\n",
    "https://github.com/mwaugh0328/data_bootcamp_spring_2018/blob/master/mini_exam_two/mj.csv\n",
    "```\n",
    "\n",
    "- (a) How many games did Michael Jordan play?\n",
    "\n",
    "\n",
    "- (b) Over his career, what was his maximum points per game? \n",
    "\n",
    "\n",
    "- (c) Use the fig, ax approach and create a bar chart with age on the x-axis and points per game on the y-axis.  \n",
    "\n",
    "\n",
    "- (d) Set the limits of the y-axis to be between 20 and 40; Title the x and y axis with informative labels. Create a title for the whole figure. Make the title bold font. \n"
   ]
  },
  {
   "cell_type": "markdown",
   "metadata": {},
   "source": [
    "## Part a"
   ]
  },
  {
   "cell_type": "code",
   "execution_count": 54,
   "metadata": {},
   "outputs": [
    {
     "data": {
      "text/plain": [
       "'The number of games that Michael Jordan played is 1072.0 games.'"
      ]
     },
     "execution_count": 54,
     "metadata": {},
     "output_type": "execute_result"
    }
   ],
   "source": [
    "\"The number of games that Michael Jordan played is \" + str(mj[\"G\"].sum()) + \" games.\""
   ]
  },
  {
   "cell_type": "markdown",
   "metadata": {},
   "source": [
    "## Part b"
   ]
  },
  {
   "cell_type": "code",
   "execution_count": 57,
   "metadata": {},
   "outputs": [
    {
     "data": {
      "text/plain": [
       "\"Over his career, Michael Jordan's maximum points per game is 37.0853658537 points.\""
      ]
     },
     "execution_count": 57,
     "metadata": {},
     "output_type": "execute_result"
    }
   ],
   "source": [
    "\"Over his career, Michael Jordan's maximum points per game is \"+ str(mj[\"PPG\"].max()) + \" points.\""
   ]
  },
  {
   "cell_type": "markdown",
   "metadata": {},
   "source": [
    "## Part c and d"
   ]
  },
  {
   "cell_type": "code",
   "execution_count": 76,
   "metadata": {},
   "outputs": [
    {
     "data": {
      "text/plain": [
       "Text(0.5,1,\"Michael Jordan's Statistics\")"
      ]
     },
     "execution_count": 76,
     "metadata": {},
     "output_type": "execute_result"
    },
    {
     "data": {
      "image/png": "[encoded data removed]",
      "text/plain": [
       "<matplotlib.figure.Figure at 0x1111ce630>"
      ]
     },
     "metadata": {},
     "output_type": "display_data"
    }
   ],
   "source": [
    "fig, ax = plt.subplots()\n",
    "\n",
    "ax.bar(mj[\"Age\"], mj[\"PPG\"])\n",
    "ax.set_ylim(20,40)\n",
    "ax.set_xlabel(\"Age\", fontsize=12)\n",
    "ax.set_ylabel(\"Points per Game\", fontsize=12)\n",
    "\n",
    "fig.suptitle(\"Michael Jordan's Statistics\", fontsize=16, y=1, fontweight=\"bold\")"
   ]
  },
  {
   "cell_type": "markdown",
   "metadata": {},
   "source": [
    "### Bonus Questions (10 pts each)\n",
    "\n",
    "- Can you find a method to figure out the year associated with his best year (in terms of points per game)? Hint: explore \".idxmax()\" \n",
    "\n",
    "\n",
    "- Why is their a missing value for age 30? Can you insert some text with a message explaining what Michael Jordon was doing? If you don't know (step 1 google it) or if running out of time (guess or simply put I don't know).\n",
    "\n",
    "\n",
    "- Apply any other customizations you think would make the plot look better.\n"
   ]
  },
  {
   "cell_type": "markdown",
   "metadata": {},
   "source": [
    "## Part 1"
   ]
  },
  {
   "cell_type": "code",
   "execution_count": 83,
   "metadata": {},
   "outputs": [
    {
     "data": {
      "text/plain": [
       "1987.0"
      ]
     },
     "execution_count": 83,
     "metadata": {},
     "output_type": "execute_result"
    }
   ],
   "source": [
    "mj2=mj.set_index(\"Year\")\n",
    "\n",
    "mj2[\"PPG\"].idxmax()"
   ]
  },
  {
   "cell_type": "markdown",
   "metadata": {},
   "source": [
    "The year associated with Michael Jordan's best performance (in terms of points per game) is 1987."
   ]
  },
  {
   "cell_type": "markdown",
   "metadata": {},
   "source": [
    "## Part 2"
   ]
  },
  {
   "cell_type": "markdown",
   "metadata": {},
   "source": [
    "There is a missing value for age 30 because Michael Jordan retired at the age of 30, after winning three championships. There are some specualtions about the reasons for this retirement, but Michael Jordan did become active again at the age of 32."
   ]
  },
  {
   "cell_type": "markdown",
   "metadata": {},
   "source": [
    "## Part 3"
   ]
  },
  {
   "cell_type": "code",
   "execution_count": 96,
   "metadata": {},
   "outputs": [
    {
     "data": {
      "text/plain": [
       "Text(0.5,1,\"Michael Jordan's Statistics\")"
      ]
     },
     "execution_count": 96,
     "metadata": {},
     "output_type": "execute_result"
    },
    {
     "data": {
      "image/png": "[encoded data removed]",
      "text/plain": [
       "<matplotlib.figure.Figure at 0x11a836048>"
      ]
     },
     "metadata": {},
     "output_type": "display_data"
    }
   ],
   "source": [
    "fig, ax = plt.subplots()\n",
    "\n",
    "ax.bar(mj[\"Age\"], mj[\"PPG\"], color=\"red\", alpha=0.7)\n",
    "ax.set_ylim(20,40)\n",
    "ax.set_xlabel(\"Age\", fontsize=12)\n",
    "ax.set_ylabel(\"Points per Game\", fontsize=12)\n",
    "ax.tick_params(axis='y', rotation=20)\n",
    "ax.spines[\"right\"].set_visible(False)\n",
    "ax.spines[\"top\"].set_visible(False)\n",
    "\n",
    "ax.plot(mj[\"Age\"], mj[\"PPG\"],color=\"blue\",alpha=0.3)\n",
    "ax.bar(mj[\"Age\"], mj[\"PPG\"], color=[\"r\",\"r\",\"g\",\"r\",\"r\",\"r\",\"r\",\"r\",\"r\",\"r\",\"r\",\"r\",\n",
    "                                    \"r\",\"r\"], alpha=0.5)\n",
    "\n",
    "fig.suptitle(\"Michael Jordan's Statistics\", fontsize=16, y=1, fontweight=\"bold\")"
   ]
  },
  {
   "cell_type": "code",
   "execution_count": null,
   "metadata": {
    "collapsed": true
   },
   "outputs": [],
   "source": []
  }
 ],
 "metadata": {
  "anaconda-cloud": {},
  "hide_input": false,
  "kernelspec": {
   "display_name": "Python 3",
   "language": "python",
   "name": "python3"
  },
  "language_info": {
   "codemirror_mode": {
    "name": "ipython",
    "version": 3
   },
   "file_extension": ".py",
   "mimetype": "text/x-python",
   "name": "python",
   "nbconvert_exporter": "python",
   "pygments_lexer": "ipython3",
   "version": "3.6.3"
  }
 },
 "nbformat": 4,
 "nbformat_minor": 2
}
