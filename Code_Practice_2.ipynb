{
 "cells": [
  {
   "cell_type": "markdown",
   "metadata": {},
   "source": [
    "**Question 1**"
   ]
  },
  {
   "cell_type": "code",
   "execution_count": 23,
   "metadata": {},
   "outputs": [
    {
     "ename": "TypeError",
     "evalue": "can only concatenate list (not \"str\") to list",
     "output_type": "error",
     "traceback": [
      "\u001b[0;31m---------------------------------------------------------------------------\u001b[0m",
      "\u001b[0;31mTypeError\u001b[0m                                 Traceback (most recent call last)",
      "\u001b[0;32m<ipython-input-23-5fb081dc0d7e>\u001b[0m in \u001b[0;36m<module>\u001b[0;34m()\u001b[0m\n\u001b[1;32m      1\u001b[0m \u001b[0mx\u001b[0m \u001b[0;34m=\u001b[0m \u001b[0;34m[\u001b[0m\u001b[0;36m1\u001b[0m\u001b[0;34m,\u001b[0m \u001b[0;36m2\u001b[0m\u001b[0;34m,\u001b[0m \u001b[0;36m3\u001b[0m\u001b[0;34m]\u001b[0m\u001b[0;34m\u001b[0m\u001b[0m\n\u001b[1;32m      2\u001b[0m \u001b[0my\u001b[0m \u001b[0;34m=\u001b[0m \u001b[0;34m'bootcamp'\u001b[0m\u001b[0;34m\u001b[0m\u001b[0m\n\u001b[0;32m----> 3\u001b[0;31m \u001b[0mz\u001b[0m \u001b[0;34m=\u001b[0m \u001b[0mx\u001b[0m \u001b[0;34m+\u001b[0m \u001b[0my\u001b[0m\u001b[0;34m\u001b[0m\u001b[0m\n\u001b[0m",
      "\u001b[0;31mTypeError\u001b[0m: can only concatenate list (not \"str\") to list"
     ]
    }
   ],
   "source": [
    "x = [1, 2, 3]\n",
    "y = 'bootcamp'\n",
    "z = x + y"
   ]
  },
  {
   "cell_type": "markdown",
   "metadata": {},
   "source": [
    "x is a list, while y is a string. We cannot add a string to a list through the addition (+) function. For z to run without error, both x and y need to be strings or both need to be lists."
   ]
  },
  {
   "cell_type": "markdown",
   "metadata": {},
   "source": [
    "**Question 2**"
   ]
  },
  {
   "cell_type": "markdown",
   "metadata": {},
   "source": [
    "The function that gives their type is ***type***( ), while the function that gives us the number of elements they contain is ***len***( )."
   ]
  },
  {
   "cell_type": "code",
   "execution_count": 25,
   "metadata": {},
   "outputs": [
    {
     "data": {
      "text/plain": [
       "(list, 3)"
      ]
     },
     "execution_count": 25,
     "metadata": {},
     "output_type": "execute_result"
    }
   ],
   "source": [
    "type(x), len(x)"
   ]
  },
  {
   "cell_type": "code",
   "execution_count": 26,
   "metadata": {},
   "outputs": [
    {
     "data": {
      "text/plain": [
       "(str, 8)"
      ]
     },
     "execution_count": 26,
     "metadata": {},
     "output_type": "execute_result"
    }
   ],
   "source": [
    "type(y), len(y)"
   ]
  },
  {
   "cell_type": "markdown",
   "metadata": {},
   "source": [
    "**Question 3**"
   ]
  },
  {
   "cell_type": "code",
   "execution_count": 27,
   "metadata": {},
   "outputs": [
    {
     "data": {
      "text/plain": [
       "int"
      ]
     },
     "execution_count": 27,
     "metadata": {},
     "output_type": "execute_result"
    }
   ],
   "source": [
    "type(2)\n",
    "#2 is an integer"
   ]
  },
  {
   "cell_type": "code",
   "execution_count": 28,
   "metadata": {},
   "outputs": [
    {
     "data": {
      "text/plain": [
       "str"
      ]
     },
     "execution_count": 28,
     "metadata": {},
     "output_type": "execute_result"
    }
   ],
   "source": [
    "type('2')\n",
    "#'2' is a string because 2 it is contained in quotation marks"
   ]
  },
  {
   "cell_type": "code",
   "execution_count": 29,
   "metadata": {},
   "outputs": [
    {
     "data": {
      "text/plain": [
       "float"
      ]
     },
     "execution_count": 29,
     "metadata": {},
     "output_type": "execute_result"
    }
   ],
   "source": [
    "type(2.0)\n",
    "#2.0 is a float because it has decimal points"
   ]
  },
  {
   "cell_type": "code",
   "execution_count": 30,
   "metadata": {},
   "outputs": [
    {
     "data": {
      "text/plain": [
       "str"
      ]
     },
     "execution_count": 30,
     "metadata": {},
     "output_type": "execute_result"
    }
   ],
   "source": [
    "type(\"2.0\")\n",
    "#\"2.0\" is a string because 2.0 is contained in quotation marks"
   ]
  },
  {
   "cell_type": "code",
   "execution_count": 31,
   "metadata": {},
   "outputs": [
    {
     "data": {
      "text/plain": [
       "bool"
      ]
     },
     "execution_count": 31,
     "metadata": {},
     "output_type": "execute_result"
    }
   ],
   "source": [
    "type(2>1)\n",
    "#2>1 is a boolean value because it is a variable that is either true or false"
   ]
  },
  {
   "cell_type": "code",
   "execution_count": 1,
   "metadata": {},
   "outputs": [
    {
     "data": {
      "text/plain": [
       "bool"
      ]
     },
     "execution_count": 1,
     "metadata": {},
     "output_type": "execute_result"
    }
   ],
   "source": [
    "type('Itamar'>'Chase')\n",
    "#This is a boolean value because it is a variable that is either true or false"
   ]
  },
  {
   "cell_type": "code",
   "execution_count": 2,
   "metadata": {},
   "outputs": [
    {
     "data": {
      "text/plain": [
       "list"
      ]
     },
     "execution_count": 2,
     "metadata": {},
     "output_type": "execute_result"
    }
   ],
   "source": [
    "type([1, 2])\n",
    "#[1, 2] is a list containing 2 elements, 1 and 2"
   ]
  },
  {
   "cell_type": "code",
   "execution_count": 4,
   "metadata": {},
   "outputs": [
    {
     "data": {
      "text/plain": [
       "tuple"
      ]
     },
     "execution_count": 4,
     "metadata": {},
     "output_type": "execute_result"
    }
   ],
   "source": [
    "type((1, 2))\n",
    "#(1, 2) is a tuple, as signified by the round brackets."
   ]
  },
  {
   "cell_type": "code",
   "execution_count": 5,
   "metadata": {},
   "outputs": [
    {
     "data": {
      "text/plain": [
       "dict"
      ]
     },
     "execution_count": 5,
     "metadata": {},
     "output_type": "execute_result"
    }
   ],
   "source": [
    "type({1: \"one\", 2: \"two\"})\n",
    "#This is a dictionary, with the values 1 and 2 being keys\n",
    "#\"one\" and \"two\" are the values assigned to 1 and 2, respectively"
   ]
  },
  {
   "cell_type": "markdown",
   "metadata": {},
   "source": [
    "**Question 4**"
   ]
  },
  {
   "cell_type": "code",
   "execution_count": 104,
   "metadata": {},
   "outputs": [
    {
     "name": "stdout",
     "output_type": "stream",
     "text": [
      "The value of 1>=0 is True\n",
      "The value of 1 >= 1 is True\n",
      "The value of 1 > 1 is False\n",
      "The value of 1==1 is True\n",
      "The value of 1 == 1.0 is True\n",
      "The value of 'Spencer' == \"Spencer\" is True\n",
      "The value of 2**3 > 3**2 is False\n",
      "The value of 1 >= 0 or 1 <= 2 is True\n",
      "The value of 1 >= 0 and 1 <= 2 is True\n"
     ]
    }
   ],
   "source": [
    "print(\"The value of \" + \"1>=0 \" + \"is \" +str(1>=0))\n",
    "print(\"The value of \" + \"1 >= 1 \" + \"is \" +str(1>=1))\n",
    "print(\"The value of \" + \"1 > 1 \" + \"is \" +str(1>1))\n",
    "print(\"The value of \" + \"1==1 \" + \"is \" +str(1==1))\n",
    "print(\"The value of \" + \"1 == 1.0 \" + \"is \" +str(1==1.0))\n",
    "print(\"The value of \" + \"\"\"'Spencer' == \"Spencer\" \"\"\" + \"is \" +str('Spencer'==\"Spencer\"))\n",
    "print(\"The value of \" + \"2**3 > 3**2 \" + \"is \" +str(2**3 > 3**2))\n",
    "print(\"The value of \" + \"1 >= 0 or 1 <= 2 \" + \"is \" +str(1 >= 0 or 1 <= 2))\n",
    "print(\"The value of \" + \"1 >= 0 and 1 <= 2 \" + \"is \" +str(1 >= 0 and 1 <= 2))"
   ]
  },
  {
   "cell_type": "markdown",
   "metadata": {},
   "source": [
    "The values above are all Boolean values."
   ]
  },
  {
   "cell_type": "markdown",
   "metadata": {},
   "source": [
    "**Question 5**"
   ]
  },
  {
   "cell_type": "code",
   "execution_count": 14,
   "metadata": {},
   "outputs": [
    {
     "ename": "SyntaxError",
     "evalue": "invalid syntax (<ipython-input-14-07a70d6c9420>, line 1)",
     "output_type": "error",
     "traceback": [
      "\u001b[0;36m  File \u001b[0;32m\"<ipython-input-14-07a70d6c9420>\"\u001b[0;36m, line \u001b[0;32m1\u001b[0m\n\u001b[0;31m    if 2>1\u001b[0m\n\u001b[0m          ^\u001b[0m\n\u001b[0;31mSyntaxError\u001b[0m\u001b[0;31m:\u001b[0m invalid syntax\n"
     ]
    }
   ],
   "source": [
    "if 2>1\n",
    "    print('Yes, 2 is still greater than 1')"
   ]
  },
  {
   "cell_type": "markdown",
   "metadata": {},
   "source": [
    "The error here stems from the lack of a colon (:) after \"if 2>1\""
   ]
  },
  {
   "cell_type": "code",
   "execution_count": 15,
   "metadata": {},
   "outputs": [
    {
     "name": "stdout",
     "output_type": "stream",
     "text": [
      "Yes, 2 is still greater than 1\n"
     ]
    }
   ],
   "source": [
    "if 2>1:\n",
    "    print('Yes, 2 is still greater than 1')"
   ]
  },
  {
   "cell_type": "markdown",
   "metadata": {},
   "source": [
    "**Question 6**"
   ]
  },
  {
   "cell_type": "code",
   "execution_count": 20,
   "metadata": {},
   "outputs": [
    {
     "name": "stdout",
     "output_type": "stream",
     "text": [
      "on the one hand\n"
     ]
    }
   ],
   "source": [
    "if True:\n",
    "    print(\"on the one hand\")\n",
    "else:\n",
    "    print(\"but on the other hand\")"
   ]
  },
  {
   "cell_type": "markdown",
   "metadata": {},
   "source": [
    "Conditional statements are written in the form of *\"if condition is true, then execute the (code in the following line)\"*.\n",
    "\n",
    "Writing a condition results in a boolean value, which is either *True* or *False*. Here, by writing *True*, we basically skip the step where the code determines the Boolean value (whether the statement is *True* or *False*) and we instead just give the conditional statement the Boolean value of *True*.\n",
    "\n",
    "Thus, **\"on the one hand\"** is printed because that is the result specified when the conditional statement is *True*."
   ]
  },
  {
   "cell_type": "code",
   "execution_count": 22,
   "metadata": {},
   "outputs": [
    {
     "name": "stdout",
     "output_type": "stream",
     "text": [
      "but on the other hand\n"
     ]
    }
   ],
   "source": [
    "if False:\n",
    "    print(\"on the one hand\")\n",
    "else:\n",
    "    print(\"but on the other hand\")"
   ]
  },
  {
   "cell_type": "markdown",
   "metadata": {},
   "source": [
    "Unlike the previous case, the conditional statement will not print **\"on the one hand\"** because the Boolean value is *False*, thus it executes the line of code associated with \"else\".\n",
    "\n",
    "The code after \"else\" is executed if none of the previous conditions are satisfied, i.e. when all the previous Boolean values are *False*. Here, the Boolean value is indeed *False*, thus **\"but on the other hand\"** is printed."
   ]
  },
  {
   "cell_type": "code",
   "execution_count": 21,
   "metadata": {},
   "outputs": [
    {
     "name": "stdout",
     "output_type": "stream",
     "text": [
      "but on the other hand\n"
     ]
    }
   ],
   "source": [
    "if not True:\n",
    "    print(\"on the one hand\")\n",
    "else:\n",
    "    print(\"but on the other hand\")"
   ]
  },
  {
   "cell_type": "markdown",
   "metadata": {},
   "source": [
    "Similar to the previous case, the Boolean value is not *True*, i.e. it is *False*. Thus, the line of code associated with \"else\" is executed. The code will thus print **\"but on the other hand\"**."
   ]
  },
  {
   "cell_type": "markdown",
   "metadata": {},
   "source": [
    "**Question 7**"
   ]
  },
  {
   "cell_type": "code",
   "execution_count": 23,
   "metadata": {},
   "outputs": [
    {
     "name": "stdout",
     "output_type": "stream",
     "text": [
      "Chase\n"
     ]
    }
   ],
   "source": [
    "cond = True\n",
    "if cond:\n",
    "    x = \"Chase\"\n",
    "else:\n",
    "    x = \"Dave\"\n",
    "print(x)"
   ]
  },
  {
   "cell_type": "markdown",
   "metadata": {},
   "source": [
    "Similar to question 6, we directly give a Boolean value to the conditional statement (instead of writing a condition which the code will convert to a Boolean value of either *True* or *False*).\n",
    "\n",
    "Thus, as we give the conditional statement the Boolean value, *True*, the conditional statement will execute **\"x = \"Chase\"** because we have specified this to be the executable code when the condition is fulfilled (when the Boolean value is *True*)."
   ]
  },
  {
   "cell_type": "markdown",
   "metadata": {},
   "source": [
    "**Question 8**"
   ]
  },
  {
   "cell_type": "code",
   "execution_count": 24,
   "metadata": {
    "collapsed": true
   },
   "outputs": [],
   "source": [
    "x = [1, 2, 3, 4]\n",
    "y = ['x', 'y', 'z']"
   ]
  },
  {
   "cell_type": "code",
   "execution_count": 25,
   "metadata": {},
   "outputs": [
    {
     "name": "stdout",
     "output_type": "stream",
     "text": [
      "x has more\n"
     ]
    }
   ],
   "source": [
    "if len(x)>len(y):\n",
    "    print('x has more')\n",
    "else:\n",
    "    print(\"y has at least as many\")"
   ]
  },
  {
   "cell_type": "markdown",
   "metadata": {},
   "source": [
    "**Question 9**"
   ]
  },
  {
   "cell_type": "markdown",
   "metadata": {},
   "source": [
    "**Slicing** is an operation that can be done on *strings* and *lists*. We can take out specific parts of a *string* or *list* by specifying the location of the part (by specifying the location as an integer in a square bracket after the *string* or *list*). In the case of a *string*, we take out individual characters from the *string* when we **slice** it. For *lists*, we take out individual elements within the *list* when we **slice** it.\n",
    "\n",
    "It is also important to note that Python starts numbering from zero, thus what we would consider the first item in a *list* or the first character in a *string* is represented by the number 0."
   ]
  },
  {
   "cell_type": "code",
   "execution_count": 27,
   "metadata": {},
   "outputs": [
    {
     "data": {
      "text/plain": [
       "'r'"
      ]
     },
     "execution_count": 27,
     "metadata": {},
     "output_type": "execute_result"
    }
   ],
   "source": [
    "#example of slicing a string\n",
    "\"string\"[2]\n",
    "#this will \"slice\" the character \"r\" from the string, as \"r\" is character number 2 (in Python)"
   ]
  },
  {
   "cell_type": "code",
   "execution_count": 28,
   "metadata": {},
   "outputs": [
    {
     "data": {
      "text/plain": [
       "'item number 1'"
      ]
     },
     "execution_count": 28,
     "metadata": {},
     "output_type": "execute_result"
    }
   ],
   "source": [
    "#example of slicing a list\n",
    "test_list = [\"item number 0\", \"item number 1\", \"item number 2\", \"item number 3\"]\n",
    "test_list[1]"
   ]
  },
  {
   "cell_type": "markdown",
   "metadata": {},
   "source": [
    "**Question 10**"
   ]
  },
  {
   "cell_type": "code",
   "execution_count": 30,
   "metadata": {},
   "outputs": [
    {
     "name": "stdout",
     "output_type": "stream",
     "text": [
      "1\n",
      "5\n",
      "[1, 2, 3, 4]\n"
     ]
    }
   ],
   "source": [
    "x = [1, 2, 3, 4, 5]\n",
    "\n",
    "first_element = x[0]\n",
    "#this takes the first element in x\n",
    "\n",
    "last_element = x[-1]\n",
    "#this takes the last element in x(-1 is the last element)\n",
    "\n",
    "all_but_last = x[0:-1]\n",
    "#this takes element 0 until but not including -1, i.e. it takes the first element until\n",
    "#but not including the last element\n",
    "\n",
    "print(first_element)\n",
    "print(last_element)\n",
    "print(all_but_last)"
   ]
  },
  {
   "cell_type": "markdown",
   "metadata": {},
   "source": [
    "**Question 11**"
   ]
  },
  {
   "cell_type": "code",
   "execution_count": 35,
   "metadata": {},
   "outputs": [
    {
     "name": "stdout",
     "output_type": "stream",
     "text": [
      "This\n",
      "is\n",
      "a\n",
      "sentence\n",
      "please\n",
      "slice\n",
      "it\n"
     ]
    }
   ],
   "source": [
    "sentence = \"This is a sentence; please slice it\"\n",
    "#there are 35 characters in this string, thus the characters are numbered 0-34\n",
    "\n",
    "print(sentence[0:4])\n",
    "print(sentence[5:7])\n",
    "print(sentence[8:9])\n",
    "print(sentence[10:18])\n",
    "print(sentence[20:26])\n",
    "print(sentence[27:32])\n",
    "print(sentence[33:])\n",
    "#leaving the part after the colon empty means we slice everything after (and including) the\n",
    "#character specified before the colon"
   ]
  },
  {
   "cell_type": "markdown",
   "metadata": {},
   "source": [
    "**Question 12**"
   ]
  },
  {
   "cell_type": "code",
   "execution_count": 37,
   "metadata": {},
   "outputs": [
    {
     "name": "stdout",
     "output_type": "stream",
     "text": [
      "1\n",
      "10\n",
      "['b', 'fast', 'slow', 3]\n"
     ]
    }
   ],
   "source": [
    "x = [1, 2, \"a\", 'b', \"fast\", 'slow', 3, \"Raghu\", 'Liuren', 10]\n",
    "first_item = x[0] #this slices the first item\n",
    "last_item = x[-1] #this slices the last item\n",
    "b_to_3_inclusive = x[3:7] #this slices item number 3 ('b') to item number 6 (3)\n",
    "\n",
    "print(first_item)\n",
    "print(last_item)\n",
    "print(b_to_3_inclusive)"
   ]
  },
  {
   "cell_type": "markdown",
   "metadata": {},
   "source": [
    "**Question 13**"
   ]
  },
  {
   "cell_type": "code",
   "execution_count": 38,
   "metadata": {},
   "outputs": [
    {
     "name": "stdout",
     "output_type": "stream",
     "text": [
      "1\n",
      "2\n",
      "a\n",
      "b\n",
      "fast\n",
      "slow\n",
      "3\n",
      "Raghu\n",
      "Liuren\n",
      "10\n"
     ]
    }
   ],
   "source": [
    "x = [1, 2, \"a\", 'b', \"fast\", 'slow', 3, \"Raghu\", 'Liuren', 10]\n",
    "for item in x:\n",
    "    print(item)"
   ]
  },
  {
   "cell_type": "markdown",
   "metadata": {},
   "source": [
    "**Question 14**"
   ]
  },
  {
   "cell_type": "code",
   "execution_count": 39,
   "metadata": {},
   "outputs": [
    {
     "name": "stdout",
     "output_type": "stream",
     "text": [
      "a\n",
      "b\n",
      "fast\n",
      "slow\n",
      "Raghu\n",
      "Liuren\n"
     ]
    }
   ],
   "source": [
    "x = [1, 2, \"a\", 'b', \"fast\", 'slow', 3, \"Raghu\", 'Liuren', 10]\n",
    "for item in x:\n",
    "    if type(item) == str:\n",
    "        print(item)"
   ]
  },
  {
   "cell_type": "markdown",
   "metadata": {},
   "source": [
    "**Question 15**"
   ]
  },
  {
   "cell_type": "code",
   "execution_count": 40,
   "metadata": {
    "collapsed": true
   },
   "outputs": [],
   "source": [
    "range?"
   ]
  },
  {
   "cell_type": "markdown",
   "metadata": {},
   "source": [
    "**range(3,12,2)** will create a sequence of integers starting from 3 and stopping at but not including 12, where there is an increase of 2 from one integer to the subsequent integer."
   ]
  },
  {
   "cell_type": "code",
   "execution_count": 43,
   "metadata": {},
   "outputs": [
    {
     "data": {
      "text/plain": [
       "[3, 5, 7, 9, 11]"
      ]
     },
     "execution_count": 43,
     "metadata": {},
     "output_type": "execute_result"
    }
   ],
   "source": [
    "list(range(3,12,2))"
   ]
  },
  {
   "cell_type": "markdown",
   "metadata": {},
   "source": [
    "**Question 16**"
   ]
  },
  {
   "cell_type": "code",
   "execution_count": 71,
   "metadata": {},
   "outputs": [
    {
     "name": "stdout",
     "output_type": "stream",
     "text": [
      "165\n"
     ]
    }
   ],
   "source": [
    "sum = 0\n",
    "\n",
    "thirty = list(range(0,31))\n",
    "for item in thirty:\n",
    "    if int(str(round(item/3,1))[-1]) == 0:\n",
    "        #we only consider values whose first decimal point is 0\n",
    "        sum = sum + item\n",
    "\n",
    "        \n",
    "print(sum)"
   ]
  },
  {
   "cell_type": "code",
   "execution_count": 72,
   "metadata": {},
   "outputs": [
    {
     "name": "stdout",
     "output_type": "stream",
     "text": [
      "0\n",
      "3\n",
      "6\n",
      "9\n",
      "12\n",
      "15\n",
      "18\n",
      "21\n",
      "24\n",
      "27\n",
      "30\n"
     ]
    }
   ],
   "source": [
    "#this is just a proof that the values that are chosen under the given condition are the\n",
    "#correct values (i.e. multiples of 3)\n",
    "\n",
    "thirty = list(range(0,31))\n",
    "for item in thirty:\n",
    "    if int(str(round(item/3,1))[-1]) == 0:\n",
    "        print(item)"
   ]
  },
  {
   "cell_type": "markdown",
   "metadata": {},
   "source": [
    "**Question 17**"
   ]
  },
  {
   "cell_type": "code",
   "execution_count": 84,
   "metadata": {
    "collapsed": true
   },
   "outputs": [],
   "source": [
    "def pocket_change(penny, nickel, dime, quarter):\n",
    "    total = round(penny/100 + nickel*5/100 + dime*10/100 + quarter*25/100,2)\n",
    "    return total"
   ]
  },
  {
   "cell_type": "code",
   "execution_count": 85,
   "metadata": {},
   "outputs": [
    {
     "data": {
      "text/plain": [
       "1.41"
      ]
     },
     "execution_count": 85,
     "metadata": {},
     "output_type": "execute_result"
    }
   ],
   "source": [
    "pocket_change(1,2,3,4)"
   ]
  },
  {
   "cell_type": "code",
   "execution_count": 86,
   "metadata": {
    "collapsed": true
   },
   "outputs": [],
   "source": [
    "def pocket_change_challenging(penny, nickel, dime, quarter):\n",
    "    total = round(penny/100 + nickel*5/100 + dime*10/100 + quarter*25/100,2)\n",
    "    return \"The total is $\"+str(total)"
   ]
  },
  {
   "cell_type": "code",
   "execution_count": 87,
   "metadata": {},
   "outputs": [
    {
     "data": {
      "text/plain": [
       "'The total is $1.41'"
      ]
     },
     "execution_count": 87,
     "metadata": {},
     "output_type": "execute_result"
    }
   ],
   "source": [
    "pocket_change_challenging(1,2,3,4)"
   ]
  },
  {
   "cell_type": "markdown",
   "metadata": {},
   "source": [
    "**Question 18**"
   ]
  },
  {
   "cell_type": "code",
   "execution_count": 88,
   "metadata": {
    "collapsed": true
   },
   "outputs": [],
   "source": [
    "def notsix(the_list):\n",
    "    shortlist = []\n",
    "    for item in the_list:\n",
    "        if str(item)[0] != \"6\":\n",
    "            shortlist.append(item)\n",
    "    print(shortlist)"
   ]
  },
  {
   "cell_type": "code",
   "execution_count": 89,
   "metadata": {},
   "outputs": [
    {
     "name": "stdout",
     "output_type": "stream",
     "text": [
      "[1234, 4321, 9876]\n"
     ]
    }
   ],
   "source": [
    "qn18_list = [1234, 6783, 6, 4321, 9876]\n",
    "notsix(qn18_list)"
   ]
  },
  {
   "cell_type": "markdown",
   "metadata": {},
   "source": [
    "**Question 19**"
   ]
  },
  {
   "cell_type": "code",
   "execution_count": 90,
   "metadata": {
    "collapsed": true
   },
   "outputs": [],
   "source": [
    "old_list = [1234, 6783, 6, 4321, 9876]\n",
    "new_list = [x for x in old_list if str(x)[0] != \"6\"]"
   ]
  },
  {
   "cell_type": "markdown",
   "metadata": {},
   "source": [
    "**old_list = [1234, 6783, 6, 4321, 9876]** creates a list named **old_list** containing the values within the square brackets.\n",
    "\n",
    "\n",
    "\n",
    "**new_list** creates a new list containing elements from **old_list** that satisfy a specified condition. The specified condition is that the first digit of the element is not 6.\n",
    "\n",
    "\n",
    "\n",
    "A more detailed explanation on the specified condition:\n",
    "\n",
    "One by one, the elements in **old_list** will be converted into a string using the **str** function, then it is sliced (as signified by the **[0]** which takes out the first character in the string), then the sliced character is compared to \"6\". If it is not equal to \"6\", then the condition is satisfied (as the condition is **!= \"6\"** which means not equal to \"6\") and the element will be part of **new_list**."
   ]
  },
  {
   "cell_type": "markdown",
   "metadata": {},
   "source": [
    "**Question 20**"
   ]
  },
  {
   "cell_type": "code",
   "execution_count": 92,
   "metadata": {
    "collapsed": true
   },
   "outputs": [],
   "source": [
    "z = {1: 'one', 2: 'two', 3: 'three'}"
   ]
  },
  {
   "cell_type": "code",
   "execution_count": 93,
   "metadata": {},
   "outputs": [
    {
     "name": "stdout",
     "output_type": "stream",
     "text": [
      "z is a dictionary\n",
      "The length of z is 3\n"
     ]
    }
   ],
   "source": [
    "#PART A\n",
    "if type(z) == dict:\n",
    "    print(\"z is a dictionary\")\n",
    "    \n",
    "print(\"The length of z is \" + str(len(z)))"
   ]
  },
  {
   "cell_type": "markdown",
   "metadata": {},
   "source": [
    "PART B\n",
    "\n",
    "The components before each colon are keys, while the components after each colon are values. I.e. the keys in this dictionary are **1**, **2**, and **3** which are associated to the values **'one'**, **'two'**, and **'three'**, respectively."
   ]
  },
  {
   "cell_type": "code",
   "execution_count": 94,
   "metadata": {},
   "outputs": [
    {
     "data": {
      "text/plain": [
       "'two'"
      ]
     },
     "execution_count": 94,
     "metadata": {},
     "output_type": "execute_result"
    }
   ],
   "source": [
    "#PART C\n",
    "\n",
    "#To get the value associated to a specific key, type the name of the dictionary followed by\n",
    "#a square bracket containing the key\n",
    "\n",
    "z[2]"
   ]
  },
  {
   "cell_type": "code",
   "execution_count": 96,
   "metadata": {
    "collapsed": true
   },
   "outputs": [],
   "source": [
    "#PART D\n",
    "z.keys?\n",
    "#z.keys will give us a view of the keys in the dictionary z \n",
    "#note it does not create a list containing said keys\n",
    "\n",
    "z.values?\n",
    "#z.values will give us a view of the values in the dictionary z\n",
    "#note it does not create a list containing said values"
   ]
  },
  {
   "cell_type": "code",
   "execution_count": 99,
   "metadata": {},
   "outputs": [
    {
     "data": {
      "text/plain": [
       "dict_keys([1, 2, 3])"
      ]
     },
     "execution_count": 99,
     "metadata": {},
     "output_type": "execute_result"
    }
   ],
   "source": [
    "z.keys()"
   ]
  },
  {
   "cell_type": "code",
   "execution_count": 100,
   "metadata": {},
   "outputs": [
    {
     "data": {
      "text/plain": [
       "dict_values(['one', 'two', 'three'])"
      ]
     },
     "execution_count": 100,
     "metadata": {},
     "output_type": "execute_result"
    }
   ],
   "source": [
    "z.values()"
   ]
  },
  {
   "cell_type": "code",
   "execution_count": 101,
   "metadata": {},
   "outputs": [
    {
     "data": {
      "text/plain": [
       "[1, 2, 3]"
      ]
     },
     "execution_count": 101,
     "metadata": {},
     "output_type": "execute_result"
    }
   ],
   "source": [
    "#PART E\n",
    "list(z.keys())\n",
    "#This will create a list containing only the keys from the dictionary z"
   ]
  },
  {
   "cell_type": "code",
   "execution_count": 102,
   "metadata": {},
   "outputs": [
    {
     "data": {
      "text/plain": [
       "['one', 'two', 'three']"
      ]
     },
     "execution_count": 102,
     "metadata": {},
     "output_type": "execute_result"
    }
   ],
   "source": [
    "#PART F\n",
    "list(z.values())\n",
    "#This will create a list containing only the values from the dictionary z"
   ]
  },
  {
   "cell_type": "code",
   "execution_count": 103,
   "metadata": {},
   "outputs": [
    {
     "data": {
      "text/plain": [
       "[1, 2, 3]"
      ]
     },
     "execution_count": 103,
     "metadata": {},
     "output_type": "execute_result"
    }
   ],
   "source": [
    "#PART G\n",
    "list(z)\n",
    "#This will create a list containing only the keys from the dictionary z"
   ]
  },
  {
   "cell_type": "markdown",
   "metadata": {},
   "source": [
    "**Question 21**"
   ]
  },
  {
   "cell_type": "markdown",
   "metadata": {},
   "source": [
    "It took about 180 minutes for me to finish this assignment."
   ]
  }
 ],
 "metadata": {
  "kernelspec": {
   "display_name": "Python 3",
   "language": "python",
   "name": "python3"
  },
  "language_info": {
   "codemirror_mode": {
    "name": "ipython",
    "version": 3
   },
   "file_extension": ".py",
   "mimetype": "text/x-python",
   "name": "python",
   "nbconvert_exporter": "python",
   "pygments_lexer": "ipython3",
   "version": "3.6.3"
  }
 },
 "nbformat": 4,
 "nbformat_minor": 2
}
